{
  "nbformat": 4,
  "nbformat_minor": 0,
  "metadata": {
    "colab": {
      "provenance": [],
      "include_colab_link": true
    },
    "kernelspec": {
      "name": "python3",
      "display_name": "Python 3"
    }
  },
  "cells": [
    {
      "cell_type": "markdown",
      "metadata": {
        "id": "view-in-github",
        "colab_type": "text"
      },
      "source": [
        "<a href=\"https://colab.research.google.com/github/Mateo289/Talleres_y_ejercicios_SS/blob/main/Taller_2.ipynb\" target=\"_parent\"><img src=\"https://colab.research.google.com/assets/colab-badge.svg\" alt=\"Open In Colab\"/></a>"
      ]
    },
    {
      "cell_type": "markdown",
      "source": [
        "Ejercicios teorico-practicos: serie y transformada de Fourier\n",
        "\n",
        "Senales y Sistemas\n",
        "\n",
        "Profesor: Andres Marino Alvarez Meza, Ph.D.\n",
        "\n",
        "Departamento de Ingenierıa Electrica, Electronica y Computacion\n",
        "\n",
        "Universidad Nacional de Colombia - sede Manizales"
      ],
      "metadata": {
        "id": "fAIA0I0i6aKm"
      }
    },
    {
      "cell_type": "markdown",
      "source": [
        "# **Taller 2**\n",
        "# **1. Representación generalizada y serie de Fourier**\n",
        "\n",
        "# 1. Encuentre el valor de $\\omega_0 \\in \\mathbb{R}$ para que el conjunto $\\{e^{jn\\omega_0 t}\\}_{n \\in \\mathbb{Z}}$ sea ortogonal en el intervalo $t \\in \\left[-\\frac{T}{2}, \\frac{T}{2}\\right]$, con $T \\in \\mathbb{R}^+$.\n"
      ],
      "metadata": {
        "id": "49tX5hyo7GdF"
      }
    },
    {
      "cell_type": "markdown",
      "source": [
        "# Ortogonalidad del Conjunto $\\{e^{jn\\omega_0 t}\\}_{n \\in \\mathbb{Z}}$\n",
        "\n",
        "- Debemos encontrar el valor de $\\omega_0 \\in \\mathbb{R}$ para que el conjunto $\\{e^{jn\\omega_0 t}\\}_{n \\in \\mathbb{Z}}$ sea ortogonal en el intervalo $[-T/2, T/2]$, donde $T \\in \\mathbb{R}^+$.\n",
        "\n",
        "- **Condición de Ortogonalidad**:\n",
        "  - Dos funciones $f(t)$ y $g(t)$ son ortogonales en un intervalo $[-T/2, T/2]$ si se cumple que:\n",
        "  \n",
        "  $$\n",
        "  \\int_{-T/2}^{T/2} f(t) \\overline{g(t)} \\, dt = 0 \\quad \\text{cuando } f \\neq g\n",
        "  $$\n",
        "  \n",
        "  - Para el conjunto dado $\\{e^{jn\\omega_0 t}\\}_{n \\in \\mathbb{Z}}$, la condición de ortogonalidad se traduce en:\n",
        "  \n",
        "  $$\n",
        "  \\int_{-T/2}^{T/2} e^{jn\\omega_0 t} \\cdot e^{-jm\\omega_0 t} \\, dt = 0 \\quad \\text{cuando } n \\neq m\n",
        "  $$\n",
        "\n",
        "- **Simplificación del Integrando**:\n",
        "  - Dado que $e^{jn\\omega_0 t} \\cdot e^{-jm\\omega_0 t} = e^{j(n-m)\\omega_0 t}$, la integral se convierte en:\n",
        "  \n",
        "  $$\n",
        "  \\int_{-T/2}^{T/2} e^{j(n-m)\\omega_0 t} \\, dt = 0 \\quad \\text{cuando } n \\neq m\n",
        "  $$\n",
        "\n",
        "- **Evaluación de la Integral**:\n",
        "  - Resolvemos la integral:\n",
        "  \n",
        "  $$\n",
        "  \\int_{-T/2}^{T/2} e^{j(n-m)\\omega_0 t} \\, dt\n",
        "  $$\n",
        "  \n",
        "  - Para resolver esta integral, podemos usar la siguiente fórmula estándar:\n",
        "  \n",
        "  $$\n",
        "  \\int e^{ax} \\, dx = \\frac{e^{ax}}{a}\n",
        "  $$\n",
        "  \n",
        "  - Aplicando esto, obtenemos:\n",
        "  \n",
        "  $$\n",
        "  \\int_{-T/2}^{T/2} e^{j(n-m)\\omega_0 t} \\, dt = \\left[ \\frac{e^{j(n-m)\\omega_0 t}}{j(n-m)\\omega_0} \\right]_{-T/2}^{T/2}\n",
        "  $$\n",
        "\n",
        "- **Simplificación del Resultado**:\n",
        "  - Al evaluar en los límites, tenemos:\n",
        "  \n",
        "  $$\n",
        "  \\frac{e^{j(n-m)\\omega_0 T/2} - e^{-j(n-m)\\omega_0 T/2}}{j(n-m)\\omega_0}\n",
        "  $$\n",
        "  \n",
        "  - Esto se puede simplificar usando la identidad de Euler para el seno:\n",
        "  \n",
        "  $$\n",
        "  = \\frac{2j \\sin\\left(\\frac{(n-m)\\omega_0 T}{2}\\right)}{j(n-m)\\omega_0}\n",
        "  $$\n",
        "  \n",
        "  $$\n",
        "  = \\frac{2 \\sin\\left(\\frac{(n-m)\\omega_0 T}{2}\\right)}{(n-m)\\omega_0}\n",
        "  $$\n",
        "\n",
        "- **Condición para la Ortogonalidad**:\n",
        "  - Para que las funciones sean ortogonales, la expresión anterior debe ser igual a cero para $n \\neq m$. Esto implica que:\n",
        "  \n",
        "  $$\n",
        "  \\sin\\left(\\frac{(n-m)\\omega_0 T}{2}\\right) = 0\n",
        "  $$\n",
        "  \n",
        "  - Sabemos que la función seno es cero cuando su argumento es un múltiplo entero de $\\pi$. Por lo tanto, tenemos:\n",
        "  \n",
        "  $$\n",
        "  \\frac{(n-m)\\omega_0 T}{2} = k\\pi \\quad \\text{para } k \\in \\mathbb{Z}\n",
        "  $$\n",
        "\n",
        "- **Determinación de $\\omega_0$**:\n",
        "  - De la ecuación anterior, podemos despejar $\\omega_0$:\n",
        "  \n",
        "  $$\n",
        "  \\omega_0 = \\frac{2\\pi k}{T(n-m)}\n",
        "  $$\n",
        "  \n",
        "  - Para asegurar la ortogonalidad para cualquier $n \\neq m$, el valor más pequeño de $\\omega_0$ se obtiene cuando $k = 1$ y $n-m = 1$. Entonces:\n",
        "  \n",
        "  $$\n",
        "  \\omega_0 = \\frac{2\\pi}{T}\n",
        "  $$\n",
        "\n",
        "- **Conclusión**:\n",
        "  - El valor de $\\omega_0$ que asegura que el conjunto $\\{e^{jn\\omega_0 t}\\}_{n \\in \\mathbb{Z}}$ sea ortogonal en el intervalo $[-T/2, T/2]$ es:\n",
        "  \n",
        "  $$\n",
        "  \\omega_0 = \\frac{2\\pi}{T}\n",
        "  $$\n"
      ],
      "metadata": {
        "id": "2UHSGlRX-6B9"
      }
    },
    {
      "cell_type": "markdown",
      "source": [],
      "metadata": {
        "id": "msviDfv7BE2F"
      }
    },
    {
      "cell_type": "code",
      "source": [],
      "metadata": {
        "id": "Te5cUp9KC-om"
      },
      "execution_count": null,
      "outputs": []
    }
  ]
}